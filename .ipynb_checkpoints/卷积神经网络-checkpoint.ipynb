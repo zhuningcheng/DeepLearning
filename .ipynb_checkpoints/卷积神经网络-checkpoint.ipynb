{
 "cells": [
  {
   "cell_type": "code",
   "execution_count": 6,
   "id": "85bc62ec-3c99-4107-8653-b7eae1068f21",
   "metadata": {},
   "outputs": [],
   "source": [
    "# 本代码构建了LeNet-5卷积神经网络，并使用MNIST数据集进行训练完成手写数字识别任务"
   ]
  },
  {
   "cell_type": "code",
   "execution_count": 7,
   "id": "87084b0d-e7a4-4353-a25f-a0e8bf010ce7",
   "metadata": {},
   "outputs": [],
   "source": [
    "import torch\n",
    "import torch.nn as nn\n",
    "import torch.utils.data as data\n",
    "import torchvision\n",
    "import matplotlib.pyplot as plt"
   ]
  },
  {
   "cell_type": "code",
   "execution_count": 8,
   "id": "a8716a54-9ee2-47eb-9c90-19b76f717405",
   "metadata": {},
   "outputs": [
    {
     "name": "stdout",
     "output_type": "stream",
     "text": [
      "cuda\n"
     ]
    }
   ],
   "source": [
    "# 运算设备设置为显卡\n",
    "device = torch.device('cuda' if torch.cuda.is_available() else 'cpu')\n",
    "print(device)"
   ]
  },
  {
   "cell_type": "code",
   "execution_count": 9,
   "id": "4c092b9c-ddd5-4857-8e2d-4cf483cb8b25",
   "metadata": {},
   "outputs": [
    {
     "name": "stderr",
     "output_type": "stream",
     "text": [
      "100%|█████████████████████████████████████████████████████████████████████████████| 9.91M/9.91M [00:02<00:00, 4.32MB/s]\n",
      "100%|██████████████████████████████████████████████████████████████████████████████| 28.9k/28.9k [00:00<00:00, 125kB/s]\n",
      "100%|██████████████████████████████████████████████████████████████████████████████| 1.65M/1.65M [00:02<00:00, 648kB/s]\n",
      "100%|█████████████████████████████████████████████████████████████████████████████| 4.54k/4.54k [00:00<00:00, 2.56MB/s]\n"
     ]
    }
   ],
   "source": [
    "# 下载MNIST数据集，输入调整为28×28\n",
    "training_set = torchvision.datasets.MNIST('dataset', \n",
    "                                          train=True, \n",
    "                                          transform=torchvision.transforms.ToTensor(), \n",
    "                                          download=True)\n",
    "test_set = torchvision.datasets.MNIST('dataset', \n",
    "                                      train=False, \n",
    "                                      transform=torchvision.transforms.ToTensor(),\n",
    "                                      download=True)"
   ]
  },
  {
   "cell_type": "code",
   "execution_count": 14,
   "id": "780a7866-3050-4f13-bb86-16c60ba4dcb6",
   "metadata": {},
   "outputs": [],
   "source": [
    "# 设置批次大小\n",
    "BATCH_SIZE= 256"
   ]
  },
  {
   "cell_type": "code",
   "execution_count": 15,
   "id": "2b589d84-0c0a-4fdb-802a-85f786e2168a",
   "metadata": {},
   "outputs": [],
   "source": [
    "# 加载训练集和测试集\n",
    "train_loader = data.DataLoader(training_set, batch_size=BATCH_SIZE, shuffle=True)\n",
    "test_loader = data.DataLoader(test_set, batch_size=BATCH_SIZE)"
   ]
  },
  {
   "cell_type": "code",
   "execution_count": 16,
   "id": "ae8ceb12-2178-459e-9dad-f27a28fda1dc",
   "metadata": {},
   "outputs": [],
   "source": [
    "# 自定义最小池化层\n",
    "class MinPool2d(nn.Module):\n",
    "    def __init__(self, kernel_size, stride=None, padding=0):\n",
    "        super(MinPool2d, self).__init__()\n",
    "        self.kernel_size = kernel_size\n",
    "        self.stride = stride or kernel_size\n",
    "        self.padding = padding\n",
    "    def forward(self, x):\n",
    "        return -nn.functional.max_pool2d(-x,kernel_size=self.kernel_size, stride=self.stride, padding=self.padding)\n",
    "        "
   ]
  },
  {
   "cell_type": "code",
   "execution_count": 20,
   "id": "28b4a406-84df-4d48-a77c-c7d73195fc86",
   "metadata": {},
   "outputs": [],
   "source": [
    "# 定义LeNet-5模型，允许选择不同的池化方式\n",
    "class LeNet5(nn.Module):\n",
    "    def __init__(self):\n",
    "        super(LeNet5,self).__init__()\n",
    "        \n",
    "        # 定义第一层卷积层：输入通道1，输出通道6，卷积核5x5，输出大小变为24x24x6\n",
    "        conv1 = nn.Conv2d(1 ,6 ,kernel_size = 5, padding = 0, stride = 1)\n",
    "        \n",
    "        # 定义不同的池化层\n",
    "        \n",
    "        #最大池化层\n",
    "        # self.pool1 = nn.MaxPool2d(kernel_size=2, stride=2)\n",
    "        # self.pool2 = nn.MaxPool2d(kernel_size=2, stride=2)\n",
    "        \n",
    "        #平均池化层\n",
    "        # self.pool1 = nn.AvgPool2d(kernel_size=2, stride=2)\n",
    "        # self.pool2 = nn.AvgPool2d(kernel_size=2, stride=2)\n",
    "\n",
    "        #最小池化层\n",
    "        self.pool1 = MinPool2d(kernel_size=2, stride=2)\n",
    "        self.pool2 = MinPool2d(kernel_size=2, stride=2)\n",
    "\n",
    "        # 第二层卷积：输入通道6，输出通道16，卷积核5x5，输出大小变为8x8x16\n",
    "        self.conv2 = nn.Conv2d(6, 16, kernel_size=5, stride=1, padding=0)\n",
    "        \n",
    "        # 全连接层：输入尺寸为4x4x16（经过第二次池化后）\n",
    "        self.fc1 = nn.Linear(16 * 4 * 4, 120)\n",
    "        self.fc2 = nn.Linear(120, 84)\n",
    "        self.fc3 = nn.Linear(84, 10)\n",
    "        \n",
    "        # 定义前向传播函数\n",
    "        def forward(self,x):\n",
    "            \n",
    "        # 第一层卷积 + 池化\n",
    "        x = self.pool1(torch.relu(self.conv1(x)))\n",
    "        \n",
    "        # 第二层卷积 + 池化\n",
    "        x = self.pool2(torch.relu(self.conv2(x)))\n",
    "        \n",
    "        # 展平为一维向量\n",
    "        x = x.view(-1, 16 * 4 * 4)\n",
    "        x = torch.relu(self.fc1(x))\n",
    "        x = torch.relu(self.fc2(x))\n",
    "        x = self.fc3(x)\n",
    "        \n",
    "        return x"
   ]
  },
  {
   "cell_type": "code",
   "execution_count": null,
   "id": "0ae64e34-c37e-4843-83f1-783b22e56c8a",
   "metadata": {},
   "outputs": [],
   "source": []
  }
 ],
 "metadata": {
  "kernelspec": {
   "display_name": "Python 3 (ipykernel)",
   "language": "python",
   "name": "python3"
  },
  "language_info": {
   "codemirror_mode": {
    "name": "ipython",
    "version": 3
   },
   "file_extension": ".py",
   "mimetype": "text/x-python",
   "name": "python",
   "nbconvert_exporter": "python",
   "pygments_lexer": "ipython3",
   "version": "3.12.7"
  }
 },
 "nbformat": 4,
 "nbformat_minor": 5
}
