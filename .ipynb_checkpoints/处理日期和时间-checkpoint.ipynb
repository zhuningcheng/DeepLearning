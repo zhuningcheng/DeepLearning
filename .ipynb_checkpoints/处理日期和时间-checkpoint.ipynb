{
 "cells": [
  {
   "cell_type": "code",
   "execution_count": 3,
   "id": "204826d8-269d-4905-affa-a35135739e3f",
   "metadata": {},
   "outputs": [],
   "source": [
    "import pandas as pd\n",
    "import numpy as np"
   ]
  },
  {
   "cell_type": "code",
   "execution_count": 4,
   "id": "3e40b44d-3d20-4f0c-b13c-2cb0ead1fb30",
   "metadata": {},
   "outputs": [],
   "source": [
    "datetime_list = np.array(['03-04-2005 10:35:01 pM',\n",
    "                         '23-05-2010 12:33:01 PM',\n",
    "                         '04-09-2009 09:10:01 AM','05-09-2009 09:10:01 AM'])\n",
    "date_stamp_list =pd.to_datetime(datetime_list,format='%d-%m-%Y %I:%M:%S %p',yearfirst=True)# [pd.to_datetime(date,format='%d-%m-%Y %I:%M %p') for date in datetime_list]"
   ]
  },
  {
   "cell_type": "code",
   "execution_count": 5,
   "id": "6403e876-d830-4745-a04e-9f316a8a324e",
   "metadata": {},
   "outputs": [
    {
     "data": {
      "text/plain": [
       "DatetimeIndex(['2005-04-03 22:35:01', '2010-05-23 12:33:01',\n",
       "               '2009-09-04 09:10:01', '2009-09-05 09:10:01'],\n",
       "              dtype='datetime64[ns]', freq=None)"
      ]
     },
     "execution_count": 5,
     "metadata": {},
     "output_type": "execute_result"
    }
   ],
   "source": [
    "date_stamp_list"
   ]
  },
  {
   "cell_type": "code",
   "execution_count": 7,
   "id": "1a59fc69-a5cd-4cef-a546-6e650b644452",
   "metadata": {},
   "outputs": [
    {
     "name": "stdout",
     "output_type": "stream",
     "text": [
      "一    11\n",
      "二    22\n",
      "三    33\n",
      "Name: 2005-04-03 22:35:01, dtype: int64\n",
      "一    22\n",
      "二    33\n",
      "三    44\n",
      "Name: 2010-05-23 12:33:01, dtype: int64\n",
      "一    33\n",
      "二    44\n",
      "三    55\n",
      "Name: 2009-09-04 09:10:01, dtype: int64\n",
      "一    44\n",
      "二    55\n",
      "三    66\n",
      "Name: 2009-09-05 09:10:01, dtype: int64\n"
     ]
    },
    {
     "data": {
      "text/plain": [
       "[None, None, None, None]"
      ]
     },
     "execution_count": 7,
     "metadata": {},
     "output_type": "execute_result"
    }
   ],
   "source": [
    "# 使用布尔语句选取部分数据或loc行索引选取数据\n",
    "\n",
    "data_list = [[11,22,33],[22,33,44],[33,44,55],[44,55,66]]\n",
    "# 时间序列数据\n",
    "timesequence=pd.DataFrame(data=data_list,index=date_stamp_list,columns=['一','二','三'])\n",
    "\n",
    "[print(timesequence.loc[index]) for index in date_stamp_list]\n"
   ]
  },
  {
   "cell_type": "code",
   "execution_count": 16,
   "id": "8614f5cc-17dc-4a58-b401-0fc0def42cc9",
   "metadata": {},
   "outputs": [
    {
     "data": {
      "text/html": [
       "<div>\n",
       "<style scoped>\n",
       "    .dataframe tbody tr th:only-of-type {\n",
       "        vertical-align: middle;\n",
       "    }\n",
       "\n",
       "    .dataframe tbody tr th {\n",
       "        vertical-align: top;\n",
       "    }\n",
       "\n",
       "    .dataframe thead th {\n",
       "        text-align: right;\n",
       "    }\n",
       "</style>\n",
       "<table border=\"1\" class=\"dataframe\">\n",
       "  <thead>\n",
       "    <tr style=\"text-align: right;\">\n",
       "      <th></th>\n",
       "      <th>一</th>\n",
       "      <th>二</th>\n",
       "      <th>三</th>\n",
       "      <th>data</th>\n",
       "      <th>year</th>\n",
       "      <th>month</th>\n",
       "      <th>day</th>\n",
       "      <th>hour</th>\n",
       "      <th>min</th>\n",
       "      <th>minute</th>\n",
       "      <th>sec</th>\n",
       "    </tr>\n",
       "  </thead>\n",
       "  <tbody>\n",
       "    <tr>\n",
       "      <th>2005-04-03 22:35:01</th>\n",
       "      <td>11</td>\n",
       "      <td>22</td>\n",
       "      <td>33</td>\n",
       "      <td>2005-04-03 22:35:01</td>\n",
       "      <td>2005</td>\n",
       "      <td>4</td>\n",
       "      <td>3</td>\n",
       "      <td>22</td>\n",
       "      <td>35</td>\n",
       "      <td>35</td>\n",
       "      <td>1</td>\n",
       "    </tr>\n",
       "    <tr>\n",
       "      <th>2010-05-23 12:33:01</th>\n",
       "      <td>22</td>\n",
       "      <td>33</td>\n",
       "      <td>44</td>\n",
       "      <td>2010-05-23 12:33:01</td>\n",
       "      <td>2010</td>\n",
       "      <td>5</td>\n",
       "      <td>23</td>\n",
       "      <td>12</td>\n",
       "      <td>33</td>\n",
       "      <td>33</td>\n",
       "      <td>1</td>\n",
       "    </tr>\n",
       "    <tr>\n",
       "      <th>2009-09-04 09:10:01</th>\n",
       "      <td>33</td>\n",
       "      <td>44</td>\n",
       "      <td>55</td>\n",
       "      <td>2009-09-04 09:10:01</td>\n",
       "      <td>2009</td>\n",
       "      <td>9</td>\n",
       "      <td>4</td>\n",
       "      <td>9</td>\n",
       "      <td>10</td>\n",
       "      <td>10</td>\n",
       "      <td>1</td>\n",
       "    </tr>\n",
       "    <tr>\n",
       "      <th>2009-09-05 09:10:01</th>\n",
       "      <td>44</td>\n",
       "      <td>55</td>\n",
       "      <td>66</td>\n",
       "      <td>2009-09-05 09:10:01</td>\n",
       "      <td>2009</td>\n",
       "      <td>9</td>\n",
       "      <td>5</td>\n",
       "      <td>9</td>\n",
       "      <td>10</td>\n",
       "      <td>10</td>\n",
       "      <td>1</td>\n",
       "    </tr>\n",
       "  </tbody>\n",
       "</table>\n",
       "</div>"
      ],
      "text/plain": [
       "                      一   二   三                data  year  month  day  hour  \\\n",
       "2005-04-03 22:35:01  11  22  33 2005-04-03 22:35:01  2005      4    3    22   \n",
       "2010-05-23 12:33:01  22  33  44 2010-05-23 12:33:01  2010      5   23    12   \n",
       "2009-09-04 09:10:01  33  44  55 2009-09-04 09:10:01  2009      9    4     9   \n",
       "2009-09-05 09:10:01  44  55  66 2009-09-05 09:10:01  2009      9    5     9   \n",
       "\n",
       "                     min  minute  sec  \n",
       "2005-04-03 22:35:01   35      35    1  \n",
       "2010-05-23 12:33:01   33      33    1  \n",
       "2009-09-04 09:10:01   10      10    1  \n",
       "2009-09-05 09:10:01   10      10    1  "
      ]
     },
     "execution_count": 16,
     "metadata": {},
     "output_type": "execute_result"
    }
   ],
   "source": [
    "# 将日期数据拆解为多个部分\n",
    "\n",
    "# 使用pandas中Series对象的属性dt\n",
    "timesequence['data']=date_stamp_list\n",
    "timesequence['year'] = timesequence['data'].dt.year\n",
    "timesequence['month'] = timesequence['data'].dt.month\n",
    "timesequence['day'] = timesequence['data'].dt.day\n",
    "timesequence['hour'] = timesequence['data'].dt.hour\n",
    "timesequence['minute'] = timesequence['data'].dt.minute\n",
    "timesequence['second'] = timesequence['data'].dt.second\n",
    "timesequence"
   ]
  },
  {
   "cell_type": "code",
   "execution_count": 19,
   "id": "95d1136e-f9fd-43f9-9f40-9f396209d4a1",
   "metadata": {},
   "outputs": [
    {
     "data": {
      "text/plain": [
       "2005-04-03 22:35:01    6\n",
       "2010-05-23 12:33:01    6\n",
       "2009-09-04 09:10:01    4\n",
       "2009-09-05 09:10:01    5\n",
       "Name: data, dtype: int32"
      ]
     },
     "execution_count": 19,
     "metadata": {},
     "output_type": "execute_result"
    }
   ],
   "source": [
    "import pandas as pd\n",
    "# 对星期进行编码，星期一为0，星期日为6\n",
    "dates = pd.Series(pd.date_range(\"11/09/2002\",periods = 3,freq = \"ME\"))\n",
    "timesequence['data'].dt.weekday"
   ]
  },
  {
   "cell_type": "code",
   "execution_count": 21,
   "id": "b55e499d-3c29-4996-a7af-034982cde116",
   "metadata": {},
   "outputs": [
    {
     "data": {
      "text/plain": [
       "Timedelta('1875 days 13:58:00')"
      ]
     },
     "execution_count": 21,
     "metadata": {},
     "output_type": "execute_result"
    }
   ],
   "source": [
    "# 计算两个日期之间的时间差，直接使用'-'运算符即可计算\n",
    "timedelta = timesequence['data'].iloc[1] - timesequence['data'].iloc[0]\n",
    "timedelta"
   ]
  },
  {
   "cell_type": "code",
   "execution_count": 28,
   "id": "68f4fa22-ad47-4bf0-ad14-acf79a8a1d65",
   "metadata": {},
   "outputs": [
    {
     "data": {
      "text/html": [
       "<div>\n",
       "<style scoped>\n",
       "    .dataframe tbody tr th:only-of-type {\n",
       "        vertical-align: middle;\n",
       "    }\n",
       "\n",
       "    .dataframe tbody tr th {\n",
       "        vertical-align: top;\n",
       "    }\n",
       "\n",
       "    .dataframe thead th {\n",
       "        text-align: right;\n",
       "    }\n",
       "</style>\n",
       "<table border=\"1\" class=\"dataframe\">\n",
       "  <thead>\n",
       "    <tr style=\"text-align: right;\">\n",
       "      <th></th>\n",
       "      <th>一</th>\n",
       "      <th>二</th>\n",
       "      <th>三</th>\n",
       "      <th>data</th>\n",
       "      <th>year</th>\n",
       "      <th>month</th>\n",
       "      <th>day</th>\n",
       "      <th>hour</th>\n",
       "      <th>min</th>\n",
       "      <th>minute</th>\n",
       "      <th>sec</th>\n",
       "    </tr>\n",
       "  </thead>\n",
       "  <tbody>\n",
       "    <tr>\n",
       "      <th>2005-04-03 22:35:01</th>\n",
       "      <td>NaN</td>\n",
       "      <td>NaN</td>\n",
       "      <td>NaN</td>\n",
       "      <td>NaT</td>\n",
       "      <td>NaN</td>\n",
       "      <td>NaN</td>\n",
       "      <td>NaN</td>\n",
       "      <td>NaN</td>\n",
       "      <td>NaN</td>\n",
       "      <td>NaN</td>\n",
       "      <td>NaN</td>\n",
       "    </tr>\n",
       "    <tr>\n",
       "      <th>2010-05-23 12:33:01</th>\n",
       "      <td>NaN</td>\n",
       "      <td>NaN</td>\n",
       "      <td>NaN</td>\n",
       "      <td>NaT</td>\n",
       "      <td>NaN</td>\n",
       "      <td>NaN</td>\n",
       "      <td>NaN</td>\n",
       "      <td>NaN</td>\n",
       "      <td>NaN</td>\n",
       "      <td>NaN</td>\n",
       "      <td>NaN</td>\n",
       "    </tr>\n",
       "    <tr>\n",
       "      <th>2009-09-04 09:10:01</th>\n",
       "      <td>11.0</td>\n",
       "      <td>22.0</td>\n",
       "      <td>33.0</td>\n",
       "      <td>2005-04-03 22:35:01</td>\n",
       "      <td>2005.0</td>\n",
       "      <td>4.0</td>\n",
       "      <td>3.0</td>\n",
       "      <td>22.0</td>\n",
       "      <td>35.0</td>\n",
       "      <td>35.0</td>\n",
       "      <td>1.0</td>\n",
       "    </tr>\n",
       "    <tr>\n",
       "      <th>2009-09-05 09:10:01</th>\n",
       "      <td>22.0</td>\n",
       "      <td>33.0</td>\n",
       "      <td>44.0</td>\n",
       "      <td>2010-05-23 12:33:01</td>\n",
       "      <td>2010.0</td>\n",
       "      <td>5.0</td>\n",
       "      <td>23.0</td>\n",
       "      <td>12.0</td>\n",
       "      <td>33.0</td>\n",
       "      <td>33.0</td>\n",
       "      <td>1.0</td>\n",
       "    </tr>\n",
       "  </tbody>\n",
       "</table>\n",
       "</div>"
      ],
      "text/plain": [
       "                        一     二     三                data    year  month  \\\n",
       "2005-04-03 22:35:01   NaN   NaN   NaN                 NaT     NaN    NaN   \n",
       "2010-05-23 12:33:01   NaN   NaN   NaN                 NaT     NaN    NaN   \n",
       "2009-09-04 09:10:01  11.0  22.0  33.0 2005-04-03 22:35:01  2005.0    4.0   \n",
       "2009-09-05 09:10:01  22.0  33.0  44.0 2010-05-23 12:33:01  2010.0    5.0   \n",
       "\n",
       "                      day  hour   min  minute  sec  \n",
       "2005-04-03 22:35:01   NaN   NaN   NaN     NaN  NaN  \n",
       "2010-05-23 12:33:01   NaN   NaN   NaN     NaN  NaN  \n",
       "2009-09-04 09:10:01   3.0  22.0  35.0    35.0  1.0  \n",
       "2009-09-05 09:10:01  23.0  12.0  33.0    33.0  1.0  "
      ]
     },
     "execution_count": 28,
     "metadata": {},
     "output_type": "execute_result"
    }
   ],
   "source": [
    "# 创建滞后时间序列数据(时间序列移动)，使用DataFrame中的shift()函数\n",
    "\n",
    "# 只对某一列进行序列移动\n",
    "timesequence['year'].shift(periods = 1,fill_value=0)\n",
    "# 对全体数据进行移动\n",
    "timesequence.shift(periods = 2)"
   ]
  },
  {
   "cell_type": "code",
   "execution_count": 45,
   "id": "8ba9f2d5-f2e1-4733-af0f-c013573a3757",
   "metadata": {},
   "outputs": [
    {
     "data": {
      "text/html": [
       "<div>\n",
       "<style scoped>\n",
       "    .dataframe tbody tr th:only-of-type {\n",
       "        vertical-align: middle;\n",
       "    }\n",
       "\n",
       "    .dataframe tbody tr th {\n",
       "        vertical-align: top;\n",
       "    }\n",
       "\n",
       "    .dataframe thead th {\n",
       "        text-align: right;\n",
       "    }\n",
       "</style>\n",
       "<table border=\"1\" class=\"dataframe\">\n",
       "  <thead>\n",
       "    <tr style=\"text-align: right;\">\n",
       "      <th></th>\n",
       "      <th>一</th>\n",
       "      <th>二</th>\n",
       "      <th>三</th>\n",
       "      <th>year</th>\n",
       "      <th>month</th>\n",
       "      <th>day</th>\n",
       "      <th>hour</th>\n",
       "      <th>min</th>\n",
       "      <th>minute</th>\n",
       "      <th>sec</th>\n",
       "    </tr>\n",
       "  </thead>\n",
       "  <tbody>\n",
       "    <tr>\n",
       "      <th>2005-04-03 22:35:01</th>\n",
       "      <td>NaN</td>\n",
       "      <td>NaN</td>\n",
       "      <td>NaN</td>\n",
       "      <td>NaN</td>\n",
       "      <td>NaN</td>\n",
       "      <td>NaN</td>\n",
       "      <td>NaN</td>\n",
       "      <td>NaN</td>\n",
       "      <td>NaN</td>\n",
       "      <td>NaN</td>\n",
       "    </tr>\n",
       "    <tr>\n",
       "      <th>2010-05-23 12:33:01</th>\n",
       "      <td>NaN</td>\n",
       "      <td>NaN</td>\n",
       "      <td>NaN</td>\n",
       "      <td>NaN</td>\n",
       "      <td>NaN</td>\n",
       "      <td>NaN</td>\n",
       "      <td>NaN</td>\n",
       "      <td>NaN</td>\n",
       "      <td>NaN</td>\n",
       "      <td>NaN</td>\n",
       "    </tr>\n",
       "    <tr>\n",
       "      <th>2009-09-04 09:10:01</th>\n",
       "      <td>11.0</td>\n",
       "      <td>22.0</td>\n",
       "      <td>33.0</td>\n",
       "      <td>2005.0</td>\n",
       "      <td>4.0</td>\n",
       "      <td>3.0</td>\n",
       "      <td>22.0</td>\n",
       "      <td>35.0</td>\n",
       "      <td>35.0</td>\n",
       "      <td>1.0</td>\n",
       "    </tr>\n",
       "    <tr>\n",
       "      <th>2009-09-05 09:10:01</th>\n",
       "      <td>22.0</td>\n",
       "      <td>33.0</td>\n",
       "      <td>44.0</td>\n",
       "      <td>2010.0</td>\n",
       "      <td>5.0</td>\n",
       "      <td>23.0</td>\n",
       "      <td>12.0</td>\n",
       "      <td>33.0</td>\n",
       "      <td>33.0</td>\n",
       "      <td>1.0</td>\n",
       "    </tr>\n",
       "  </tbody>\n",
       "</table>\n",
       "</div>"
      ],
      "text/plain": [
       "                        一     二     三    year  month   day  hour   min  \\\n",
       "2005-04-03 22:35:01   NaN   NaN   NaN     NaN    NaN   NaN   NaN   NaN   \n",
       "2010-05-23 12:33:01   NaN   NaN   NaN     NaN    NaN   NaN   NaN   NaN   \n",
       "2009-09-04 09:10:01  11.0  22.0  33.0  2005.0    4.0   3.0  22.0  35.0   \n",
       "2009-09-05 09:10:01  22.0  33.0  44.0  2010.0    5.0  23.0  12.0  33.0   \n",
       "\n",
       "                     minute  sec  \n",
       "2005-04-03 22:35:01     NaN  NaN  \n",
       "2010-05-23 12:33:01     NaN  NaN  \n",
       "2009-09-04 09:10:01    35.0  1.0  \n",
       "2009-09-05 09:10:01    33.0  1.0  "
      ]
     },
     "execution_count": 45,
     "metadata": {},
     "output_type": "execute_result"
    }
   ],
   "source": [
    "# 处理时间序列中的缺失值\n",
    "\n",
    "sequence = timesequence.drop('data',axis = 1)\n",
    "sequence = sequence.shift(2)\n",
    "# 向前填充bfill()，向后填充ffill()\n",
    "# sequence.bfill()\n",
    "\n",
    "# 使用插值法进行填充\n",
    "sequence.interpolate(method='slinear')"
   ]
  },
  {
   "cell_type": "code",
   "execution_count": null,
   "id": "ab25bc27-c187-4ace-8b41-8cabe027725f",
   "metadata": {},
   "outputs": [],
   "source": []
  }
 ],
 "metadata": {
  "kernelspec": {
   "display_name": "Python 3 (ipykernel)",
   "language": "python",
   "name": "python3"
  },
  "language_info": {
   "codemirror_mode": {
    "name": "ipython",
    "version": 3
   },
   "file_extension": ".py",
   "mimetype": "text/x-python",
   "name": "python",
   "nbconvert_exporter": "python",
   "pygments_lexer": "ipython3",
   "version": "3.12.7"
  }
 },
 "nbformat": 4,
 "nbformat_minor": 5
}
