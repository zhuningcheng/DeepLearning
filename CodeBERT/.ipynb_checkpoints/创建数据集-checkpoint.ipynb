{
 "cells": [
  {
   "cell_type": "code",
   "execution_count": 1,
   "id": "a52e1c03-0e70-4401-9c06-b92b7719ef0f",
   "metadata": {},
   "outputs": [],
   "source": [
    "import pandas as pd\n",
    "import os"
   ]
  },
  {
   "cell_type": "code",
   "execution_count": 2,
   "id": "1faba30b-8830-4a16-9a2d-bd85838ce03a",
   "metadata": {},
   "outputs": [],
   "source": [
    "\n",
    "def create_sample_dataset():\n",
    "    \"\"\"创建示例代码翻译数据集\"\"\"\n",
    "    \n",
    "    sample_data = [\n",
    "        # Java到Python的简单翻译示例\n",
    "        {\n",
    "            'source_code': 'public class Hello { public static void main(String[] args) { System.out.println(\"Hello\"); } }',\n",
    "            'target_code': 'print(\"Hello\")'\n",
    "        },\n",
    "        {\n",
    "            'source_code': 'for (int i = 0; i < 10; i++) { System.out.println(i); }',\n",
    "            'target_code': 'for i in range(10):\\n    print(i)'\n",
    "        },\n",
    "        {\n",
    "            'source_code': 'if (x > 5) { return true; } else { return false; }',\n",
    "            'target_code': 'return x > 5'\n",
    "        },\n",
    "        {\n",
    "            'source_code': 'int sum = a + b;',\n",
    "            'target_code': 'sum = a + b'\n",
    "        },\n",
    "        {\n",
    "            'source_code': 'List<String> names = new ArrayList<>();',\n",
    "            'target_code': 'names = []'\n",
    "        },\n",
    "        {\n",
    "            'source_code': 'public int add(int a, int b) { return a + b; }',\n",
    "            'target_code': 'def add(a, b):\\n    return a + b'\n",
    "        },\n",
    "        {\n",
    "            'source_code': 'try { riskyOperation(); } catch (Exception e) { e.printStackTrace(); }',\n",
    "            'target_code': 'try:\\n    risky_operation()\\nexcept Exception as e:\\n    print(e)'\n",
    "        },\n",
    "        {\n",
    "            'source_code': 'boolean isEmpty = list.isEmpty();',\n",
    "            'target_code': 'is_empty = len(list) == 0'\n",
    "        },\n",
    "        {\n",
    "            'source_code': 'while (i < 10) { i++; }',\n",
    "            'target_code': 'while i < 10:\\n    i += 1'\n",
    "        },\n",
    "        {\n",
    "            'source_code': 'public boolean isEven(int n) { return n % 2 == 0; }',\n",
    "            'target_code': 'def is_even(n):\\n    return n % 2 == 0'\n",
    "        }\n",
    "    ]\n",
    "    \n",
    "    # 创建数据目录\n",
    "    os.makedirs('data', exist_ok=True)\n",
    "    \n",
    "    # 转换为DataFrame\n",
    "    df = pd.DataFrame(sample_data)\n",
    "    \n",
    "    # 分割数据集 (60% 训练, 20% 验证, 20% 测试)\n",
    "    total_samples = len(df)\n",
    "    train_size = int(0.6 * total_samples)\n",
    "    val_size = int(0.2 * total_samples)\n",
    "    \n",
    "    train_df = df.iloc[:train_size]\n",
    "    val_df = df.iloc[train_size:train_size + val_size]\n",
    "    test_df = df.iloc[train_size + val_size:]\n",
    "    \n",
    "    # 保存数据集\n",
    "    train_df.to_csv('data/train.csv', index=False)\n",
    "    val_df.to_csv('data/val.csv', index=False)\n",
    "    test_df.to_csv('data/test.csv', index=False)\n",
    "    \n",
    "    print(f\"数据集创建完成:\")\n",
    "    print(f\"- 训练集: {len(train_df)} 个样本\")\n",
    "    print(f\"- 验证集: {len(val_df)} 个样本\") \n",
    "    print(f\"- 测试集: {len(test_df)} 个样本\")\n",
    "    \n",
    "    # 显示一些样本\n",
    "    print(\"\\n数据样本示例:\")\n",
    "    for i in range(min(2, len(train_df))):\n",
    "        print(f\"\\n样本 {i+1}:\")\n",
    "        print(f\"源代码: {train_df.iloc[i]['source_code']}\")\n",
    "        print(f\"目标代码: {train_df.iloc[i]['target_code']}\")\n",
    "    \n",
    "    return train_df, val_df, test_df\n",
    "\n",
    "# 创建数据集\n",
    "train_df, val_df, test_df = create_sample_dataset()"
   ]
  },
  {
   "cell_type": "code",
   "execution_count": 3,
   "id": "1f397cd6-e33d-4c01-9bc5-60b212037c1e",
   "metadata": {},
   "outputs": [
    {
     "name": "stdout",
     "output_type": "stream",
     "text": [
      "创建了示例数据集:\n",
      "- 训练集: 6 个样本\n",
      "- 验证集: 2 个样本\n"
     ]
    },
    {
     "data": {
      "text/plain": [
       "(                                         source_code  \\\n",
       " 0  public class Hello { public static void main(S...   \n",
       " 1  for (int i = 0; i < 10; i++) { System.out.prin...   \n",
       " 2  if (x > 5) { return true; } else { return fals...   \n",
       " 3                                   int sum = a + b;   \n",
       " 4            List<String> names = new ArrayList<>();   \n",
       " 5     public int add(int a, int b) { return a + b; }   \n",
       " \n",
       "                          target_code  \n",
       " 0                     print(\"Hello\")  \n",
       " 1  for i in range(10):\\n    print(i)  \n",
       " 2                       return x > 5  \n",
       " 3                        sum = a + b  \n",
       " 4                         names = []  \n",
       " 5   def add(a, b):\\n    return a + b  ,\n",
       "                                          source_code  \\\n",
       " 6  try { riskyOperation(); } catch (Exception e) ...   \n",
       " 7                  boolean isEmpty = list.isEmpty();   \n",
       " \n",
       "                                          target_code  \n",
       " 6  try:\\n    risky_operation()\\nexcept Exception ...  \n",
       " 7                          is_empty = len(list) == 0  )"
      ]
     },
     "execution_count": 3,
     "metadata": {},
     "output_type": "execute_result"
    }
   ],
   "source": [
    "create_sample_data()"
   ]
  },
  {
   "cell_type": "code",
   "execution_count": null,
   "id": "6c1e02b4-3207-433a-a52f-9ad0a6f16005",
   "metadata": {},
   "outputs": [],
   "source": []
  }
 ],
 "metadata": {
  "kernelspec": {
   "display_name": "Python 3 (ipykernel)",
   "language": "python",
   "name": "python3"
  },
  "language_info": {
   "codemirror_mode": {
    "name": "ipython",
    "version": 3
   },
   "file_extension": ".py",
   "mimetype": "text/x-python",
   "name": "python",
   "nbconvert_exporter": "python",
   "pygments_lexer": "ipython3",
   "version": "3.12.7"
  }
 },
 "nbformat": 4,
 "nbformat_minor": 5
}
