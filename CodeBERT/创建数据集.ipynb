{
 "cells": [
  {
   "cell_type": "code",
   "execution_count": 1,
   "id": "a52e1c03-0e70-4401-9c06-b92b7719ef0f",
   "metadata": {},
   "outputs": [],
   "source": [
    "import pandas as pd\n",
    "import os"
   ]
  },
  {
   "cell_type": "code",
   "execution_count": 10,
   "id": "1faba30b-8830-4a16-9a2d-bd85838ce03a",
   "metadata": {},
   "outputs": [],
   "source": [
    "def create_improved_dataset():\n",
    "    \n",
    "    improved_data = [\n",
    "        \n",
    "        {\n",
    "            'source_code': 'System.out.println(\"hello\");',\n",
    "            'target_code': 'print(\"hello\")'\n",
    "        },\n",
    "        {\n",
    "            'source_code': 'int x = 10;',\n",
    "            'target_code': 'x = 10'\n",
    "        },\n",
    "        {\n",
    "            'source_code': 'if (x > 5) { return true; }',\n",
    "            'target_code': 'if x > 5: return True'\n",
    "        },\n",
    "        {\n",
    "            'source_code': 'for (int i=0; i<10; i++) { }',\n",
    "            'target_code': 'for i in range(10): pass'\n",
    "        },\n",
    "        {\n",
    "            'source_code': 'public int add(int a, int b) { return a+b; }',\n",
    "            'target_code': 'def add(a, b): return a+b'\n",
    "        },\n",
    "        {\n",
    "            'source_code': 'String name = \"John\";',\n",
    "            'target_code': 'name = \"John\"'\n",
    "        },\n",
    "        {\n",
    "            'source_code': 'boolean flag = true;',\n",
    "            'target_code': 'flag = True'\n",
    "        },\n",
    "        {\n",
    "            'source_code': 'List<String> list = new ArrayList<>();',\n",
    "            'target_code': 'list = []'\n",
    "        },\n",
    "        {\n",
    "            'source_code': 'list.add(\"item\");',\n",
    "            'target_code': 'list.append(\"item\")'\n",
    "        },\n",
    "        {\n",
    "            'source_code': 'int[] arr = {1,2,3};',\n",
    "            'target_code': 'arr = [1,2,3]'\n",
    "        }\n",
    "    ]\n",
    "    \n",
    "    # 创建数据目录\n",
    "    os.makedirs('data', exist_ok=True)\n",
    "    \n",
    "    # 转换为DataFrame\n",
    "    df = pd.DataFrame(improved_data)\n",
    "    \n",
    "    # 分割数据集\n",
    "    train_df = df.iloc[:7]  # 7个训练样本\n",
    "    val_df = df.iloc[7:9]   # 2个验证样本\n",
    "    test_df = df.iloc[9:]   # 1个测试样本\n",
    "    \n",
    "    # 保存数据集\n",
    "    train_df.to_csv('data/train.csv', index=False)\n",
    "    val_df.to_csv('data/val.csv', index=False)\n",
    "    test_df.to_csv('data/test.csv', index=False)\n",
    "    \n",
    "    print(f\"数据集创建完成:\")\n",
    "    print(f\"- 训练集: {len(train_df)} 个样本\")\n",
    "    print(f\"- 验证集: {len(val_df)} 个样本\") \n",
    "    print(f\"- 测试集: {len(test_df)} 个样本\")\n",
    "    \n",
    "    # 显示数据样本\n",
    "    print(\"\\n数据样本示例:\")\n",
    "    for i in range(min(3, len(train_df))):\n",
    "        print(f\"\\n样本 {i+1}:\")\n",
    "        print(f\"源代码: {train_df.iloc[i]['source_code']}\")\n",
    "        print(f\"目标代码: {train_df.iloc[i]['target_code']}\")\n",
    "    \n",
    "    return train_df, val_df, test_df"
   ]
  },
  {
   "cell_type": "code",
   "execution_count": 11,
   "id": "1f397cd6-e33d-4c01-9bc5-60b212037c1e",
   "metadata": {},
   "outputs": [
    {
     "name": "stdout",
     "output_type": "stream",
     "text": [
      "数据集创建完成:\n",
      "- 训练集: 7 个样本\n",
      "- 验证集: 2 个样本\n",
      "- 测试集: 1 个样本\n",
      "\n",
      "数据样本示例:\n",
      "\n",
      "样本 1:\n",
      "源代码: System.out.println(\"hello\");\n",
      "目标代码: print(\"hello\")\n",
      "\n",
      "样本 2:\n",
      "源代码: int x = 10;\n",
      "目标代码: x = 10\n",
      "\n",
      "样本 3:\n",
      "源代码: if (x > 5) { return true; }\n",
      "目标代码: if x > 5: return True\n"
     ]
    },
    {
     "data": {
      "text/plain": [
       "(                                    source_code                target_code\n",
       " 0                  System.out.println(\"hello\");             print(\"hello\")\n",
       " 1                                   int x = 10;                     x = 10\n",
       " 2                   if (x > 5) { return true; }      if x > 5: return True\n",
       " 3                  for (int i=0; i<10; i++) { }   for i in range(10): pass\n",
       " 4  public int add(int a, int b) { return a+b; }  def add(a, b): return a+b\n",
       " 5                         String name = \"John\";              name = \"John\"\n",
       " 6                          boolean flag = true;                flag = True,\n",
       "                               source_code          target_code\n",
       " 7  List<String> list = new ArrayList<>();            list = []\n",
       " 8                       list.add(\"item\");  list.append(\"item\"),\n",
       "             source_code    target_code\n",
       " 9  int[] arr = {1,2,3};  arr = [1,2,3])"
      ]
     },
     "execution_count": 11,
     "metadata": {},
     "output_type": "execute_result"
    }
   ],
   "source": [
    "create_improved_dataset()"
   ]
  },
  {
   "cell_type": "code",
   "execution_count": null,
   "id": "6c1e02b4-3207-433a-a52f-9ad0a6f16005",
   "metadata": {},
   "outputs": [],
   "source": []
  }
 ],
 "metadata": {
  "kernelspec": {
   "display_name": "Python 3 (ipykernel)",
   "language": "python",
   "name": "python3"
  },
  "language_info": {
   "codemirror_mode": {
    "name": "ipython",
    "version": 3
   },
   "file_extension": ".py",
   "mimetype": "text/x-python",
   "name": "python",
   "nbconvert_exporter": "python",
   "pygments_lexer": "ipython3",
   "version": "3.12.7"
  }
 },
 "nbformat": 4,
 "nbformat_minor": 5
}
