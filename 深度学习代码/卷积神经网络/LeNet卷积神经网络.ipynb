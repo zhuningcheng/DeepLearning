{
 "cells": [
  {
   "cell_type": "code",
   "execution_count": 6,
   "id": "85bc62ec-3c99-4107-8653-b7eae1068f21",
   "metadata": {},
   "outputs": [],
   "source": [
    "# 本代码构建了LeNet-5卷积神经网络，并使用MNIST数据集进行训练完成手写数字识别任务"
   ]
  },
  {
   "cell_type": "code",
   "execution_count": 5,
   "id": "87084b0d-e7a4-4353-a25f-a0e8bf010ce7",
   "metadata": {},
   "outputs": [],
   "source": [
    "import torch\n",
    "import torch.nn as nn\n",
    "import torch.utils.data as data\n",
    "import torchvision\n",
    "import matplotlib.pyplot as plt"
   ]
  },
  {
   "cell_type": "code",
   "execution_count": 6,
   "id": "a8716a54-9ee2-47eb-9c90-19b76f717405",
   "metadata": {},
   "outputs": [
    {
     "name": "stdout",
     "output_type": "stream",
     "text": [
      "cuda\n"
     ]
    }
   ],
   "source": [
    "# 运算设备设置为显卡\n",
    "device = torch.device('cuda' if torch.cuda.is_available() else 'cpu')\n",
    "print(device)"
   ]
  },
  {
   "cell_type": "code",
   "execution_count": 8,
   "id": "4c092b9c-ddd5-4857-8e2d-4cf483cb8b25",
   "metadata": {},
   "outputs": [],
   "source": [
    "# 下载MNIST数据集，输入调整为28×28\n",
    "training_set = torchvision.datasets.MNIST('dataset', \n",
    "                                          train=True, \n",
    "                                          transform=torchvision.transforms.ToTensor(), \n",
    "                                          download=True)\n",
    "test_set = torchvision.datasets.MNIST('dataset', \n",
    "                                      train=False, \n",
    "                                      transform=torchvision.transforms.ToTensor(),\n",
    "                                      download=True)"
   ]
  },
  {
   "cell_type": "code",
   "execution_count": 14,
   "id": "780a7866-3050-4f13-bb86-16c60ba4dcb6",
   "metadata": {},
   "outputs": [],
   "source": [
    "# 设置批次大小\n",
    "BATCH_SIZE= 256"
   ]
  },
  {
   "cell_type": "code",
   "execution_count": 15,
   "id": "2b589d84-0c0a-4fdb-802a-85f786e2168a",
   "metadata": {},
   "outputs": [],
   "source": [
    "# 加载训练集和测试集\n",
    "train_loader = data.DataLoader(training_set, batch_size=BATCH_SIZE, shuffle=True)\n",
    "test_loader = data.DataLoader(test_set, batch_size=BATCH_SIZE)"
   ]
  },
  {
   "cell_type": "code",
   "execution_count": 16,
   "id": "ae8ceb12-2178-459e-9dad-f27a28fda1dc",
   "metadata": {},
   "outputs": [],
   "source": [
    "# 自定义最小池化层\n",
    "class MinPool2d(nn.Module):\n",
    "    def __init__(self, kernel_size, stride=None, padding=0):\n",
    "        super(MinPool2d, self).__init__()\n",
    "        self.kernel_size = kernel_size\n",
    "        self.stride = stride or kernel_size\n",
    "        self.padding = padding\n",
    "    def forward(self, x):\n",
    "        return -nn.functional.max_pool2d(-x,kernel_size=self.kernel_size, stride=self.stride, padding=self.padding)\n",
    "        "
   ]
  },
  {
   "cell_type": "code",
   "execution_count": 2,
   "id": "28b4a406-84df-4d48-a77c-c7d73195fc86",
   "metadata": {},
   "outputs": [
    {
     "ename": "NameError",
     "evalue": "name 'nn' is not defined",
     "output_type": "error",
     "traceback": [
      "\u001b[1;31m---------------------------------------------------------------------------\u001b[0m",
      "\u001b[1;31mNameError\u001b[0m                                 Traceback (most recent call last)",
      "Cell \u001b[1;32mIn[2], line 2\u001b[0m\n\u001b[0;32m      1\u001b[0m \u001b[38;5;66;03m# 定义LeNet-5模型，允许选择不同的池化方式\u001b[39;00m\n\u001b[1;32m----> 2\u001b[0m \u001b[38;5;28;01mclass\u001b[39;00m \u001b[38;5;21;01mLeNet5\u001b[39;00m(nn\u001b[38;5;241m.\u001b[39mModule):\n\u001b[0;32m      3\u001b[0m     \u001b[38;5;28;01mdef\u001b[39;00m \u001b[38;5;21m__init__\u001b[39m(\u001b[38;5;28mself\u001b[39m):\n\u001b[0;32m      4\u001b[0m         \u001b[38;5;28msuper\u001b[39m(LeNet5,\u001b[38;5;28mself\u001b[39m)\u001b[38;5;241m.\u001b[39m\u001b[38;5;21m__init__\u001b[39m()\n",
      "\u001b[1;31mNameError\u001b[0m: name 'nn' is not defined"
     ]
    }
   ],
   "source": [
    "# 定义LeNet-5模型，允许选择不同的池化方式\n",
    "class LeNet5(nn.Module):\n",
    "    def __init__(self):\n",
    "        super(LeNet5,self).__init__()\n",
    "        \n",
    "        # 定义第一层卷积层：输入通道1，输出通道6，卷积核5x5，输出大小变为28x28x6\n",
    "        self.conv1 = nn.Conv2d(1, 6, kernel_size=5, stride=1, padding=0)\n",
    "        \n",
    "        # 定义不同的池化层\n",
    "        \n",
    "        #最大池化层\n",
    "        # self.pool1 = nn.MaxPool2d(kernel_size=2, stride=2)\n",
    "        # self.pool2 = nn.MaxPool2d(kernel_size=2, stride=2)\n",
    "        \n",
    "        #平均池化层\n",
    "        self.pool1 = nn.AvgPool2d(kernel_size=2, stride=2)\n",
    "        self.pool2 = nn.AvgPool2d(kernel_size=2, stride=2)\n",
    "\n",
    "        #最小池化层\n",
    "        # self.pool1 = MinPool2d(kernel_size=2, stride=2)\n",
    "        # self.pool2 = MinPool2d(kernel_size=2, stride=2)\n",
    "\n",
    "        # 第二层卷积：输入通道6，输出通道16，卷积核5x5，输出大小变为8x8x16\n",
    "        self.conv2 = nn.Conv2d(6, 16, kernel_size=5, stride=1, padding=0)\n",
    "        \n",
    "        # 全连接层：输入尺寸为5x5x16（经过第二次池化后）\n",
    "        self.fc1 = nn.Linear(16 * 5 * 5, 120)\n",
    "        self.fc2 = nn.Linear(120, 84)\n",
    "        self.fc3 = nn.Linear(84, 10)\n",
    "        \n",
    "        # 定义前向传播函数\n",
    "    def forward(self, x):\n",
    "            \n",
    "        # 第一层卷积 + 池化\n",
    "        x = self.pool1(torch.relu(self.conv1(x)))\n",
    "            \n",
    "        # 第二层卷积 + 池化\n",
    "        x = self.pool2(torch.relu(self.conv2(x)))\n",
    "            \n",
    "        # 展平为一维向量\n",
    "        x = x.view(-1, 16 * 5 * 5)\n",
    "        x = torch.relu(self.fc1(x))\n",
    "        x = torch.relu(self.fc2(x))\n",
    "        x = self.fc3(x)\n",
    "        \n",
    "        return x"
   ]
  },
  {
   "cell_type": "code",
   "execution_count": 39,
   "id": "0ae64e34-c37e-4843-83f1-783b22e56c8a",
   "metadata": {},
   "outputs": [],
   "source": [
    "# 构建模型\n",
    "model = LeNet5()"
   ]
  },
  {
   "cell_type": "code",
   "execution_count": 40,
   "id": "715061a5-581c-470b-ba2d-f44008630bdf",
   "metadata": {},
   "outputs": [
    {
     "name": "stdout",
     "output_type": "stream",
     "text": [
      "LeNet5(\n",
      "  (conv1): Conv2d(1, 6, kernel_size=(5, 5), stride=(1, 1))\n",
      "  (pool1): AvgPool2d(kernel_size=2, stride=2, padding=0)\n",
      "  (pool2): AvgPool2d(kernel_size=2, stride=2, padding=0)\n",
      "  (conv2): Conv2d(6, 16, kernel_size=(5, 5), stride=(1, 1))\n",
      "  (fc1): Linear(in_features=256, out_features=120, bias=True)\n",
      "  (fc2): Linear(in_features=120, out_features=84, bias=True)\n",
      "  (fc3): Linear(in_features=84, out_features=10, bias=True)\n",
      ")\n"
     ]
    }
   ],
   "source": [
    "# 将模型交给设备计算\n",
    "model.to(device)\n",
    "print(model)"
   ]
  },
  {
   "cell_type": "code",
   "execution_count": 41,
   "id": "dcbbb631-036a-476e-a431-5942c380ab6e",
   "metadata": {},
   "outputs": [],
   "source": [
    "# 设定损失函数\n",
    "loss_func = nn.CrossEntropyLoss()\n",
    "# 设定学习率\n",
    "lr = 0.01\n",
    "# 设定优化方法(Adam)\n",
    "optimizer = torch.optim.Adam(model.parameters(), lr=lr)"
   ]
  },
  {
   "cell_type": "code",
   "execution_count": 42,
   "id": "49b743bf-1360-41bd-89c3-ed72b4e1eb07",
   "metadata": {},
   "outputs": [],
   "source": [
    "# 设定训练轮次\n",
    "EPOCH = 10\n",
    "# 记录训练准确度的历史\n",
    "train_acc_history = []"
   ]
  },
  {
   "cell_type": "code",
   "execution_count": 43,
   "id": "89980bf6-1ca7-47e8-94cc-55df25563d9e",
   "metadata": {},
   "outputs": [
    {
     "name": "stdout",
     "output_type": "stream",
     "text": [
      "Epoch 1: training accuracy: 0.904667, training loss: 0.294489\n",
      "Epoch 2: training accuracy: 0.977383, training loss: 0.074682\n",
      "Epoch 3: training accuracy: 0.982283, training loss: 0.058578\n",
      "Epoch 4: training accuracy: 0.985450, training loss: 0.046396\n",
      "Epoch 5: training accuracy: 0.987667, training loss: 0.039959\n",
      "Epoch 6: training accuracy: 0.988383, training loss: 0.037404\n",
      "Epoch 7: training accuracy: 0.989733, training loss: 0.032043\n",
      "Epoch 8: training accuracy: 0.989867, training loss: 0.031727\n",
      "Epoch 9: training accuracy: 0.991283, training loss: 0.027408\n",
      "Epoch 10: training accuracy: 0.991833, training loss: 0.025667\n"
     ]
    }
   ],
   "source": [
    "# 模型训练\n",
    "for epoch in range(EPOCH):\n",
    "    training_loss = 0.0\n",
    "    training_acc = 0.0\n",
    "\n",
    "    model.train()\n",
    "    for batch, (X, y) in enumerate(train_loader):\n",
    "        X = X.to(device)\n",
    "        y = y.to(device)\n",
    "        pred = model(X)\n",
    "        loss = loss_func(pred, y)\n",
    "\n",
    "        # 清除梯度，否则会将每一个batch的梯度累加\n",
    "        optimizer.zero_grad()\n",
    "        # 反向传播(计算梯度)\n",
    "        loss.backward()\n",
    "        # 更新位置参数的值\n",
    "        optimizer.step()\n",
    "\n",
    "        training_loss += loss.item()\n",
    "        training_acc += (pred.argmax(1) == y).type(torch.float).sum().item()\n",
    "    training_acc /= len(train_loader.dataset)\n",
    "    training_loss /= len(train_loader)\n",
    "\n",
    "    train_acc_history.append(training_acc)  # 记录训练准确度\n",
    "    print(f'Epoch {epoch + 1}: training accuracy: {training_acc:4f}, training loss: {training_loss:4f}')"
   ]
  },
  {
   "cell_type": "code",
   "execution_count": 44,
   "id": "a27d0747-b66c-4589-bdfb-f6983886852d",
   "metadata": {},
   "outputs": [
    {
     "name": "stdout",
     "output_type": "stream",
     "text": [
      "test accuracy: 0.981800, test loss: 0.058491\n"
     ]
    },
    {
     "data": {
      "image/png": "[encoded data removed]",
      "text/plain": [
       "<Figure size 640x480 with 1 Axes>"
      ]
     },
     "metadata": {},
     "output_type": "display_data"
    }
   ],
   "source": [
    "# 模型测试\n",
    "test_loss = 0.0\n",
    "test_acc = 0.0\n",
    "for batch, (X, y) in enumerate(test_loader):\n",
    "    X = X.to(device)\n",
    "    y = y.to(device)\n",
    "    pred = model(X)\n",
    "    loss = loss_func(pred, y)\n",
    "    test_loss += loss.item()\n",
    "    test_acc += (pred.argmax(1) == y).type(torch.float).sum().item()\n",
    "test_acc /= len(test_loader.dataset)\n",
    "test_loss /= len(test_loader)\n",
    "print(f'test accuracy: {test_acc:4f}', end=', ')\n",
    "print(f'test loss: {test_loss:4f}')\n",
    "\n",
    "# 绘制训练准确度随轮次变化的图\n",
    "# plt.plot(range(1, EPOCH+1), train_acc_history, marker='o', color='b', label='Max Pooling - Accuracy')\n",
    "plt.plot(range(1, EPOCH+1), train_acc_history, marker='o', color='g', label='Avg Pooling - Accuracy')\n",
    "# plt.plot(range(1, EPOCH+1), train_acc_history, marker='o', color='r', label='Min Pooling - Accuracy')\n",
    "\n",
    "plt.title('Training Accuracy over Epochs with Avg Pooling Methods')\n",
    "plt.xlabel('Epoch')\n",
    "plt.ylabel('Accuracy')\n",
    "plt.legend()\n",
    "plt.grid(True)\n",
    "plt.show()"
   ]
  },
  {
   "cell_type": "code",
   "execution_count": null,
   "id": "e427fde7-b7fc-4334-97e3-eb904efdb930",
   "metadata": {},
   "outputs": [],
   "source": []
  }
 ],
 "metadata": {
  "kernelspec": {
   "display_name": "Python 3 (ipykernel)",
   "language": "python",
   "name": "python3"
  },
  "language_info": {
   "codemirror_mode": {
    "name": "ipython",
    "version": 3
   },
   "file_extension": ".py",
   "mimetype": "text/x-python",
   "name": "python",
   "nbconvert_exporter": "python",
   "pygments_lexer": "ipython3",
   "version": "3.12.7"
  }
 },
 "nbformat": 4,
 "nbformat_minor": 5
}
