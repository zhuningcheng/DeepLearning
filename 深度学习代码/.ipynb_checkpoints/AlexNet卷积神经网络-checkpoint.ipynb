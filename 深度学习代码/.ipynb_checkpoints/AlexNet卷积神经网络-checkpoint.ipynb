{
 "cells": [
  {
   "cell_type": "code",
   "execution_count": 1,
   "id": "9e9699ab-8238-40c2-b986-84747698d269",
   "metadata": {},
   "outputs": [],
   "source": [
    "# 本代码构建了AlexNet卷积神经网络，并使用FashionMNIST数据集进行训练完成识别任务"
   ]
  },
  {
   "cell_type": "code",
   "execution_count": 15,
   "id": "94d0d43d-fe79-4ee7-a2c7-35651a6adb1c",
   "metadata": {},
   "outputs": [],
   "source": [
    "import torch\n",
    "import torch.nn as nn\n",
    "import torch.utils.data as data\n",
    "import torchvision\n",
    "import matplotlib.pyplot as plt\n",
    "import torch.nn.functional as F"
   ]
  },
  {
   "cell_type": "code",
   "execution_count": 3,
   "id": "376395b3-ccc7-404b-b03e-bc28b263a13b",
   "metadata": {},
   "outputs": [
    {
     "name": "stdout",
     "output_type": "stream",
     "text": [
      "cuda\n"
     ]
    }
   ],
   "source": [
    "# 运算设备设置为显卡\n",
    "device = torch.device('cuda' if torch.cuda.is_available() else 'cpu')\n",
    "print(device)"
   ]
  },
  {
   "cell_type": "code",
   "execution_count": 4,
   "id": "c15b2bf8-8e0f-4a92-8ae4-d14a9bc02cca",
   "metadata": {},
   "outputs": [],
   "source": [
    "training_set = torchvision.datasets.FashionMNIST('dataset', \n",
    "                                          train=True, \n",
    "                                          transform=torchvision.transforms.ToTensor(), \n",
    "                                          download=True)\n",
    "test_set = torchvision.datasets.FashionMNIST('dataset', \n",
    "                                      train=False, \n",
    "                                      transform=torchvision.transforms.ToTensor(),\n",
    "                                      download=True)"
   ]
  },
  {
   "cell_type": "code",
   "execution_count": 5,
   "id": "2a96d679-955d-4f8f-9cff-6869d3fcb00c",
   "metadata": {},
   "outputs": [],
   "source": [
    "# 设置批次大小\n",
    "BATCH_SIZE= 256"
   ]
  },
  {
   "cell_type": "code",
   "execution_count": 6,
   "id": "09607be8-0f50-4728-b022-f855e50062d4",
   "metadata": {},
   "outputs": [],
   "source": [
    "# 加载训练集和测试集\n",
    "train_loader = data.DataLoader(training_set, batch_size=BATCH_SIZE, shuffle=True)\n",
    "test_loader = data.DataLoader(test_set, batch_size=BATCH_SIZE)"
   ]
  },
  {
   "cell_type": "code",
   "execution_count": 22,
   "id": "a7c57d5c-349e-4be7-8786-745b7a2bd275",
   "metadata": {},
   "outputs": [],
   "source": [
    "# 定义AlexNet网络架构\n",
    "class AlexNet(nn.Module):\n",
    "    def __init__(self):\n",
    "        super(AlexNet,self).__init__()\n",
    "        self.relu = nn.ReLU()\n",
    "        self.c1 = nn.Conv2d(1, 96, kernel_size = 11, stride = 4)\n",
    "        self.s2 = nn.MaxPool2d(kernel_size=3, stride = 2)\n",
    "        self.c3 = nn.Conv2d(96, 256, kernel_size = 5, padding = 2)\n",
    "        self.s4 = nn.MaxPool2d(kernel_size=3, stride = 2)\n",
    "        self.c5 = nn.Conv2d(256, 384, kernel_size = 3, padding = 1)\n",
    "        self.c6 = nn.Conv2d(384, 384, kernel_size = 3, padding = 1)\n",
    "        self.c7 = nn.Conv2d(384, 256, kernel_size = 3, padding = 1)\n",
    "        self.s8 = nn.MaxPool2d(kernel_size=3, stride = 2)\n",
    "        \n",
    "        # 定义全连接层\n",
    "        self.flatten = nn.Flatten()\n",
    "        self.f1 = nn.Linear(6 * 6 * 256, 4096)\n",
    "        self.f2 = nn.Linear(4096, 4096)\n",
    "        self.f3 = nn.Linear(4096, 1000)\n",
    "    \n",
    "    # 定义前向传播函数\n",
    "    def forward(self,x):\n",
    "        x = self.relu(self.c1(x))\n",
    "        x = self.s2(x)\n",
    "        x = self.relu(self.c3(x))\n",
    "        x = self.s4(x)\n",
    "        x = self.relu(self.c5(x))\n",
    "        x = self.relu(self.c6(x))\n",
    "        x = self.relu(self.c7(x))\n",
    "        x = self.s8(x)\n",
    "        \n",
    "        x = self.flatten(x)\n",
    "        x = self.relu(self.f1(x))\n",
    "        x = nn.Dropout(x,0.5)\n",
    "        x = self.relu(self.f2(x))\n",
    "        x = nn.Dropout(x,0.5)\n",
    "        x = self.relu(self.f3(x))\n",
    "        return x"
   ]
  },
  {
   "cell_type": "code",
   "execution_count": 25,
   "id": "7eefd379-fbb2-44b7-8d84-6614f0db07d7",
   "metadata": {},
   "outputs": [
    {
     "data": {
      "text/plain": [
       "AlexNet(\n",
       "  (relu): ReLU()\n",
       "  (c1): Conv2d(1, 96, kernel_size=(11, 11), stride=(4, 4))\n",
       "  (s2): MaxPool2d(kernel_size=3, stride=2, padding=0, dilation=1, ceil_mode=False)\n",
       "  (c3): Conv2d(96, 256, kernel_size=(5, 5), stride=(1, 1), padding=(2, 2))\n",
       "  (s4): MaxPool2d(kernel_size=3, stride=2, padding=0, dilation=1, ceil_mode=False)\n",
       "  (c5): Conv2d(256, 384, kernel_size=(3, 3), stride=(1, 1), padding=(1, 1))\n",
       "  (c6): Conv2d(384, 384, kernel_size=(3, 3), stride=(1, 1), padding=(1, 1))\n",
       "  (c7): Conv2d(384, 256, kernel_size=(3, 3), stride=(1, 1), padding=(1, 1))\n",
       "  (s8): MaxPool2d(kernel_size=3, stride=2, padding=0, dilation=1, ceil_mode=False)\n",
       "  (flatten): Flatten(start_dim=1, end_dim=-1)\n",
       "  (f1): Linear(in_features=9216, out_features=4096, bias=True)\n",
       "  (f2): Linear(in_features=4096, out_features=4096, bias=True)\n",
       "  (f3): Linear(in_features=4096, out_features=1000, bias=True)\n",
       ")"
      ]
     },
     "execution_count": 25,
     "metadata": {},
     "output_type": "execute_result"
    }
   ],
   "source": [
    "# 将模型移送到GPU内存中\n",
    "model = AlexNet()\n",
    "model.to(device)"
   ]
  },
  {
   "cell_type": "code",
   "execution_count": null,
   "id": "6600e52b-90ed-4545-8919-f8a967dedfb5",
   "metadata": {},
   "outputs": [],
   "source": []
  }
 ],
 "metadata": {
  "kernelspec": {
   "display_name": "Python 3 (ipykernel)",
   "language": "python",
   "name": "python3"
  },
  "language_info": {
   "codemirror_mode": {
    "name": "ipython",
    "version": 3
   },
   "file_extension": ".py",
   "mimetype": "text/x-python",
   "name": "python",
   "nbconvert_exporter": "python",
   "pygments_lexer": "ipython3",
   "version": "3.12.7"
  }
 },
 "nbformat": 4,
 "nbformat_minor": 5
}
